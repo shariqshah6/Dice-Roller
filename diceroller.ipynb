{
 "cells": [
  {
   "cell_type": "code",
   "execution_count": null,
   "id": "504f9352",
   "metadata": {},
   "outputs": [],
   "source": [
    "import random\n",
    "\n",
    "while True:\n",
    "    print(\"🎲 Dice rolled:\", random.randint(1, 6))\n",
    "    again = input(\"Roll again? (y/n): \")\n",
    "    if again.lower() != 'y':\n",
    "        break\n"
   ]
  }
 ],
 "metadata": {
  "language_info": {
   "name": "python"
  }
 },
 "nbformat": 4,
 "nbformat_minor": 5
}
